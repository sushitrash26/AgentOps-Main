{
 "cells": [
  {
   "cell_type": "markdown",
   "metadata": {},
   "source": [
    "### Load environment variables"
   ]
  },
  {
   "cell_type": "code",
   "execution_count": 1,
   "metadata": {},
   "outputs": [
    {
     "data": {
      "text/plain": [
       "True"
      ]
     },
     "execution_count": 1,
     "metadata": {},
     "output_type": "execute_result"
    }
   ],
   "source": [
    "import os\n",
    "import warnings\n",
    "warnings.filterwarnings('ignore')\n",
    "from dotenv import load_dotenv\n",
    "load_dotenv()"
   ]
  },
  {
   "cell_type": "code",
   "execution_count": null,
   "metadata": {},
   "outputs": [],
   "source": [
    "WATSONX_APIKEY = os.environ[\"WATSONX_APIKEY\"] = os.environ[\"WATSONX_API_KEY\"] = os.getenv(\"WATSONX_APIKEY\") \n",
    "WATSONX_PROJECT_ID = os.environ[\"WATSONX_PROJECT_ID\"] = os.getenv(\"WATSONX_PROJECT_ID\")\n",
    "WATSONX_URL = os.environ[\"WATSONX_URL\"] = os.getenv(\"WATSONX_URL\")  \n",
    "\n",
    "os.environ[\"OTEL_SDK_DISABLED\"] = \"true\""
   ]
  },
  {
   "cell_type": "markdown",
   "metadata": {},
   "source": [
    "### Initialize our LLM "
   ]
  },
  {
   "cell_type": "code",
   "execution_count": null,
   "metadata": {},
   "outputs": [],
   "source": [
    "from crewai import LLM\n",
    "\n",
    "WATSONX_MODEL_ID = \"watsonx/ibm/granite-3-8b-instruct\"   \n",
    "\n",
    "llm = LLM(\n",
    "    model = WATSONX_MODEL_ID,\n",
    "    base_url = WATSONX_URL,\n",
    "    project_id = WATSONX_PROJECT_ID,\n",
    "\tapi_key = WATSONX_APIKEY,\n",
    "    max_tokens = 10000,\n",
    "    temperature = 0.1\n",
    ")"
   ]
  },
  {
   "cell_type": "markdown",
   "metadata": {},
   "source": [
    "### Define the Tools\n",
    "\n",
    "- Integration with LangChain Tools"
   ]
  },
  {
   "cell_type": "code",
   "execution_count": 4,
   "metadata": {},
   "outputs": [],
   "source": [
    "from crewai.tools import tool, BaseTool\n",
    "from pydantic import Field\n",
    "from langchain_community.tools import DuckDuckGoSearchRun"
   ]
  },
  {
   "cell_type": "code",
   "execution_count": 5,
   "metadata": {},
   "outputs": [],
   "source": [
    "class SearchTool(BaseTool):\n",
    "    name: str = \"Search\"\n",
    "    description: str = \"Useful for search-based queries. Use this to find current information about markets, companies, and trends.\"\n",
    "    search: DuckDuckGoSearchRun = Field(default_factory=DuckDuckGoSearchRun)\n",
    "\n",
    "    def _run(self, query: str) -> str:\n",
    "        \"\"\"Execute the search query and return results\"\"\"\n",
    "        try:\n",
    "            return self.search.invoke(query)\n",
    "        except Exception as e:\n",
    "            return f\"Error performing search: {str(e)}\"\n"
   ]
  },
  {
   "cell_type": "markdown",
   "metadata": {},
   "source": [
    "### Create Agents\n",
    "\n",
    "- Define your Agents, and provide them a `role`, `goal` and `backstory`.\n",
    "- It has been seen that LLMs perform better when they are role playing."
   ]
  },
  {
   "cell_type": "code",
   "execution_count": 6,
   "metadata": {},
   "outputs": [],
   "source": [
    "from crewai import Agent\n",
    "\n",
    "researcher = Agent(\n",
    "    role = \"Market Research Analyst\",\n",
    "    goal = \"Provide up-to-date market analysis of the {industry} industry\",\n",
    "    backstory = \"An expert analyst with a keen eye for industry trends and market data.\",\n",
    "    verbose = True,\n",
    "    allow_delegation = False,\n",
    "    llm = llm,\n",
    "    tools = [SearchTool()]\n",
    ")\n",
    "\n",
    "writer = Agent(\n",
    "    role = \"Content Writer\",\n",
    "    goal = \"Craft engaging blog posts about the {industry} sector based on provided research.\",\n",
    "    backstory = \"A creative professional skilled in delivering impactful content.\",\n",
    "    verbose = True,\n",
    "    allow_delegation = False,\n",
    "    llm = llm,\n",
    ")"
   ]
  },
  {
   "cell_type": "markdown",
   "metadata": {},
   "source": [
    "### Define Tasks"
   ]
  },
  {
   "cell_type": "code",
   "execution_count": 7,
   "metadata": {},
   "outputs": [],
   "source": [
    "from crewai import Task\n",
    "\n",
    "research = Task(\n",
    "    description = 'Research the latest trends in the {industry} industry and provide a summary.',\n",
    "    expected_output = 'A summary of the top 2 trending developments in the {industry} industry with a unique perspective on their significance.',\n",
    "    agent = researcher\n",
    ")\n",
    "\n",
    "write = Task(\n",
    "    description = \"Write an engaging blog post about the AI industry, based on the research analyst's summary.\",\n",
    "    expected_output = \"A well-written blog post in markdown format, ready for publication, each section should have 1 paragraph.\",\n",
    "    agent = writer,\n",
    "    output_file = 'new_post.md'  \n",
    ")"
   ]
  },
  {
   "cell_type": "markdown",
   "metadata": {},
   "source": [
    "### Create a crew of agents and execute \n",
    "\n",
    "- Pass the tasks to be performed by those agents.\n",
    "- Note: For this example, the tasks will be performed sequentially (i.e they are dependent on each other), so the order of the task in the list matters."
   ]
  },
  {
   "cell_type": "code",
   "execution_count": 8,
   "metadata": {},
   "outputs": [],
   "source": [
    "from crewai import Crew, Process \n",
    "\n",
    "crew = Crew(\n",
    "    agents = [researcher, writer],\n",
    "    tasks = [research, write],\n",
    "    process = Process.sequential,\n",
    "    verbose = True\n",
    ")"
   ]
  },
  {
   "cell_type": "code",
   "execution_count": 9,
   "metadata": {},
   "outputs": [
    {
     "name": "stdout",
     "output_type": "stream",
     "text": [
      "\u001b[1m\u001b[94m \n",
      "[2025-03-12 00:13:42][🚀 CREW 'CREW' STARTED, E47BB490-BB2A-43BA-B3D5-2CC396B72593]: 2025-03-12 00:13:42.422780\u001b[00m\n",
      "\u001b[1m\u001b[94m \n",
      "[2025-03-12 00:13:42][📋 TASK STARTED: RESEARCH THE LATEST TRENDS IN THE ARTIFICIAL INTELLIGENCE INDUSTRY AND PROVIDE A SUMMARY.]: 2025-03-12 00:13:42.426658\u001b[00m\n",
      "\u001b[1m\u001b[94m \n",
      "[2025-03-12 00:13:42][🤖 AGENT 'MARKET RESEARCH ANALYST' STARTED TASK]: 2025-03-12 00:13:42.427114\u001b[00m\n",
      "\u001b[1m\u001b[95m# Agent:\u001b[00m \u001b[1m\u001b[92mMarket Research Analyst\u001b[00m\n",
      "\u001b[95m## Task:\u001b[00m \u001b[92mResearch the latest trends in the Artificial Intelligence industry and provide a summary.\u001b[00m\n",
      "\u001b[1m\u001b[94m \n",
      "[2025-03-12 00:13:42][🤖 LLM CALL STARTED]: 2025-03-12 00:13:42.427180\u001b[00m\n",
      "\u001b[1m\u001b[94m \n",
      "[2025-03-12 00:13:44][✅ LLM CALL COMPLETED]: 2025-03-12 00:13:44.585500\u001b[00m\n",
      "\u001b[1m\u001b[94m \n",
      "[2025-03-12 00:13:44][🤖 TOOL USAGE STARTED: 'SEARCH']: 2025-03-12 00:13:44.586586\u001b[00m\n",
      "\u001b[1m\u001b[94m \n",
      "[2025-03-12 00:13:45][✅ TOOL USAGE FINISHED: 'SEARCH']: 2025-03-12 00:13:45.938540\u001b[00m\n",
      "\n",
      "\n",
      "\u001b[1m\u001b[95m# Agent:\u001b[00m \u001b[1m\u001b[92mMarket Research Analyst\u001b[00m\n",
      "\u001b[95m## Thought:\u001b[00m \u001b[92mThought: I need to find the latest trends in the Artificial Intelligence industry. I will use the Search tool to gather this information.\u001b[00m\n",
      "\u001b[95m## Using tool:\u001b[00m \u001b[92mSearch\u001b[00m\n",
      "\u001b[95m## Tool Input:\u001b[00m \u001b[92m\n",
      "\"{\\\"query\\\": \\\"latest trends in Artificial Intelligence industry\\\"}\"\u001b[00m\n",
      "\u001b[95m## Tool Output:\u001b[00m \u001b[92m\n",
      "Discover the 10 major AI trends set to reshape 2025: from augmented working and real-time decision-making to advanced AI legislation and sustainable AI initiatives. Artificial intelligence How a top Chinese AI model overcame US sanctions With a new reasoning model that matches the performance of ChatGPT o1, DeepSeek managed to turn restrictions into innovation. Explore the key trends shaping AI in 2025, from multimodal models and AI agents to security challenges and evolving regulatory landscapes. ... Free Download A guide to artificial intelligence in the enterprise ... In a recent newsletter, analyst Benedict Evans compared the boom in generative AI models to the PC industry of the late 1980s and ... Learn about the AI trends that will determine the state of technology, business and society in the upcoming years. AI market size is expected to reach $1,339 billion by 2030 Artificial Intelligence is leading the way in the technological revolution, changing industries and redefining our lives and workplaces. With groundbreaking innovations from OpenAI and fierce competition among cloud providers like AWS, Azure, and GCP, AI continues to break barriers and open up new opportunities.. The rapid growth of AI technologies has brought about significant changes in ...\u001b[00m\n",
      "\u001b[1m\u001b[94m \n",
      "[2025-03-12 00:13:45][🤖 LLM CALL STARTED]: 2025-03-12 00:13:45.939006\u001b[00m\n",
      "\u001b[1m\u001b[94m \n",
      "[2025-03-12 00:13:51][✅ LLM CALL COMPLETED]: 2025-03-12 00:13:51.728449\u001b[00m\n",
      "\n",
      "\n",
      "\u001b[1m\u001b[95m# Agent:\u001b[00m \u001b[1m\u001b[92mMarket Research Analyst\u001b[00m\n",
      "\u001b[95m## Final Answer:\u001b[00m \u001b[92m\n",
      "The top two trending developments in the Artificial Intelligence industry are:\n",
      "\n",
      "1. The rise of multimodal models and AI agents: These models can process and understand multiple types of data, such as text, images, and audio, enabling more sophisticated and versatile AI applications. This trend is significant as it allows AI systems to better understand and interact with the complex, multimodal world around us.\n",
      "\n",
      "2. Evolving regulatory landscapes and AI legislation: As AI becomes more integrated into various industries and aspects of life, governments and regulatory bodies are increasingly focusing on creating guidelines and laws to ensure ethical and responsible AI use. This trend is crucial for shaping the future of AI, as it will impact how AI technologies are developed, deployed, and adopted.\u001b[00m\n",
      "\n",
      "\n",
      "\u001b[1m\u001b[94m \n",
      "[2025-03-12 00:13:51][✅ AGENT 'MARKET RESEARCH ANALYST' COMPLETED TASK]: 2025-03-12 00:13:51.729232\u001b[00m\n",
      "\u001b[1m\u001b[94m \n",
      "[2025-03-12 00:13:51][✅ TASK COMPLETED: RESEARCH THE LATEST TRENDS IN THE ARTIFICIAL INTELLIGENCE INDUSTRY AND PROVIDE A SUMMARY.]: 2025-03-12 00:13:51.729392\u001b[00m\n",
      "\u001b[1m\u001b[94m \n",
      "[2025-03-12 00:13:51][📋 TASK STARTED: WRITE AN ENGAGING BLOG POST ABOUT THE AI INDUSTRY, BASED ON THE RESEARCH ANALYST'S SUMMARY.]: 2025-03-12 00:13:51.733021\u001b[00m\n",
      "\u001b[1m\u001b[94m \n",
      "[2025-03-12 00:13:51][🤖 AGENT 'CONTENT WRITER' STARTED TASK]: 2025-03-12 00:13:51.734534\u001b[00m\n",
      "\u001b[1m\u001b[95m# Agent:\u001b[00m \u001b[1m\u001b[92mContent Writer\u001b[00m\n",
      "\u001b[95m## Task:\u001b[00m \u001b[92mWrite an engaging blog post about the AI industry, based on the research analyst's summary.\u001b[00m\n",
      "\u001b[1m\u001b[94m \n",
      "[2025-03-12 00:13:51][🤖 LLM CALL STARTED]: 2025-03-12 00:13:51.734674\u001b[00m\n",
      "\u001b[1m\u001b[94m \n",
      "[2025-03-12 00:14:03][✅ LLM CALL COMPLETED]: 2025-03-12 00:14:03.282543\u001b[00m\n",
      "\n",
      "\n",
      "\u001b[1m\u001b[95m# Agent:\u001b[00m \u001b[1m\u001b[92mContent Writer\u001b[00m\n",
      "\u001b[95m## Final Answer:\u001b[00m \u001b[92m\n",
      "---\n",
      "\n",
      "# The Future of AI: Multimodal Models and Evolving Regulations\n",
      "\n",
      "The Artificial Intelligence (AI) industry is rapidly evolving, with two significant trends shaping its trajectory: the rise of multimodal models and AI agents, and the emergence of evolving regulatory landscapes and AI legislation.\n",
      "\n",
      "## Multimodal Models and AI Agents: A New Era of AI Capabilities\n",
      "\n",
      "The first trend revolves around the increasing prevalence of multimodal models and AI agents. These advanced AI systems can process and understand multiple types of data, including text, images, and audio. This capability enables more sophisticated and versatile AI applications, allowing AI systems to better understand and interact with the complex, multimodal world around us.\n",
      "\n",
      "Multimodal models and AI agents have the potential to revolutionize various sectors, from healthcare to entertainment. For instance, in healthcare, these systems could analyze medical images and patient records to provide more accurate diagnoses. In entertainment, they could create immersive experiences by understanding and responding to user inputs across different modalities.\n",
      "\n",
      "The significance of this trend lies in its potential to make AI systems more human-like, capable of understanding and responding to the world in a more nuanced and contextually appropriate manner. This development could pave the way for AI systems that are not just tools, but genuine collaborators and companions.\n",
      "\n",
      "## Navigating the Regulatory Landscape: Ethical AI Use\n",
      "\n",
      "The second trend is the evolving regulatory landscapes and AI legislation. As AI becomes more integrated into various industries and aspects of life, governments and regulatory bodies are increasingly focusing on creating guidelines and laws to ensure ethical and responsible AI use.\n",
      "\n",
      "This trend is crucial for shaping the future of AI. It will impact how AI technologies are developed, deployed, and adopted. For instance, regulations could dictate the transparency of AI decision-making processes, ensuring users understand how AI systems arrive at their conclusions. They could also address issues like data privacy and security, ensuring that AI systems respect user data and protect it from misuse.\n",
      "\n",
      "The evolving regulatory landscape also underscores the importance of ethical AI development. As AI systems become more sophisticated, it's essential to consider their potential societal impacts and ensure they align with human values and ethical principles.\n",
      "\n",
      "## Conclusion: A Balanced Approach to AI's Future\n",
      "\n",
      "The rise of multimodal models and AI agents, coupled with the evolving regulatory landscapes and AI legislation, presents both opportunities and challenges for the AI industry. While these trends promise to unlock new capabilities and applications for AI, they also necessitate careful consideration of ethical implications and responsible use.\n",
      "\n",
      "As we move forward, it's crucial to strike a balance between fostering innovation and ensuring ethical AI use. This balance will be key to realizing the full potential of AI while mitigating potential risks and harms.\n",
      "\n",
      "---\n",
      "\n",
      "This blog post provides an engaging exploration of the two primary trends shaping the AI industry, offering insights into their significance and potential implications for the future of AI.\u001b[00m\n",
      "\n",
      "\n",
      "\u001b[1m\u001b[94m \n",
      "[2025-03-12 00:14:03][✅ AGENT 'CONTENT WRITER' COMPLETED TASK]: 2025-03-12 00:14:03.283072\u001b[00m\n",
      "\u001b[1m\u001b[94m \n",
      "[2025-03-12 00:14:03][✅ TASK COMPLETED: WRITE AN ENGAGING BLOG POST ABOUT THE AI INDUSTRY, BASED ON THE RESEARCH ANALYST'S SUMMARY.]: 2025-03-12 00:14:03.283695\u001b[00m\n",
      "\u001b[1m\u001b[94m \n",
      "[2025-03-12 00:14:03][✅ CREW 'CREW' COMPLETED, E47BB490-BB2A-43BA-B3D5-2CC396B72593]: 2025-03-12 00:14:03.285397\u001b[00m\n"
     ]
    }
   ],
   "source": [
    "result = crew.kickoff(inputs = {\"industry\": \"Artificial Intelligence\"})"
   ]
  },
  {
   "cell_type": "code",
   "execution_count": null,
   "metadata": {},
   "outputs": [
    {
     "data": {
      "text/markdown": [
       "---\n",
       "\n",
       "# The Future of AI: Multimodal Models and Evolving Regulations\n",
       "\n",
       "The Artificial Intelligence (AI) industry is rapidly evolving, with two significant trends shaping its trajectory: the rise of multimodal models and AI agents, and the emergence of evolving regulatory landscapes and AI legislation.\n",
       "\n",
       "## Multimodal Models and AI Agents: A New Era of AI Capabilities\n",
       "\n",
       "The first trend revolves around the increasing prevalence of multimodal models and AI agents. These advanced AI systems can process and understand multiple types of data, including text, images, and audio. This capability enables more sophisticated and versatile AI applications, allowing AI systems to better understand and interact with the complex, multimodal world around us.\n",
       "\n",
       "Multimodal models and AI agents have the potential to revolutionize various sectors, from healthcare to entertainment. For instance, in healthcare, these systems could analyze medical images and patient records to provide more accurate diagnoses. In entertainment, they could create immersive experiences by understanding and responding to user inputs across different modalities.\n",
       "\n",
       "The significance of this trend lies in its potential to make AI systems more human-like, capable of understanding and responding to the world in a more nuanced and contextually appropriate manner. This development could pave the way for AI systems that are not just tools, but genuine collaborators and companions.\n",
       "\n",
       "## Navigating the Regulatory Landscape: Ethical AI Use\n",
       "\n",
       "The second trend is the evolving regulatory landscapes and AI legislation. As AI becomes more integrated into various industries and aspects of life, governments and regulatory bodies are increasingly focusing on creating guidelines and laws to ensure ethical and responsible AI use.\n",
       "\n",
       "This trend is crucial for shaping the future of AI. It will impact how AI technologies are developed, deployed, and adopted. For instance, regulations could dictate the transparency of AI decision-making processes, ensuring users understand how AI systems arrive at their conclusions. They could also address issues like data privacy and security, ensuring that AI systems respect user data and protect it from misuse.\n",
       "\n",
       "The evolving regulatory landscape also underscores the importance of ethical AI development. As AI systems become more sophisticated, it's essential to consider their potential societal impacts and ensure they align with human values and ethical principles.\n",
       "\n",
       "## Conclusion: A Balanced Approach to AI's Future\n",
       "\n",
       "The rise of multimodal models and AI agents, coupled with the evolving regulatory landscapes and AI legislation, presents both opportunities and challenges for the AI industry. While these trends promise to unlock new capabilities and applications for AI, they also necessitate careful consideration of ethical implications and responsible use.\n",
       "\n",
       "As we move forward, it's crucial to strike a balance between fostering innovation and ensuring ethical AI use. This balance will be key to realizing the full potential of AI while mitigating potential risks and harms.\n",
       "\n",
       "---\n",
       "\n",
       "This blog post provides an engaging exploration of the two primary trends shaping the AI industry, offering insights into their significance and potential implications for the future of AI."
      ],
      "text/plain": [
       "<IPython.core.display.Markdown object>"
      ]
     },
     "metadata": {},
     "output_type": "display_data"
    }
   ],
   "source": [
    "from IPython.display import display, Markdown\n",
    "\n",
    "display(Markdown(result.raw))"
   ]
  },
  {
   "cell_type": "code",
   "execution_count": 15,
   "metadata": {},
   "outputs": [
    {
     "name": "stdout",
     "output_type": "stream",
     "text": [
      "Tasks Output: [TaskOutput(description='Research the latest trends in the Artificial Intelligence industry and provide a summary.', name=None, expected_output='A summary of the top 2 trending developments in the Artificial Intelligence industry with a unique perspective on their significance.', summary='Research the latest trends in the Artificial Intelligence industry and...', raw='The top two trending developments in the Artificial Intelligence industry are:\\n\\n1. The rise of multimodal models and AI agents: These models can process and understand multiple types of data, such as text, images, and audio, enabling more sophisticated and versatile AI applications. This trend is significant as it allows AI systems to better understand and interact with the complex, multimodal world around us.\\n\\n2. Evolving regulatory landscapes and AI legislation: As AI becomes more integrated into various industries and aspects of life, governments and regulatory bodies are increasingly focusing on creating guidelines and laws to ensure ethical and responsible AI use. This trend is crucial for shaping the future of AI, as it will impact how AI technologies are developed, deployed, and adopted.', pydantic=None, json_dict=None, agent='Market Research Analyst', output_format=<OutputFormat.RAW: 'raw'>), TaskOutput(description=\"Write an engaging blog post about the AI industry, based on the research analyst's summary.\", name=None, expected_output='A well-written blog post in markdown format, ready for publication, each section should have 1 paragraph.', summary='Write an engaging blog post about the AI industry, based...', raw=\"---\\n\\n# The Future of AI: Multimodal Models and Evolving Regulations\\n\\nThe Artificial Intelligence (AI) industry is rapidly evolving, with two significant trends shaping its trajectory: the rise of multimodal models and AI agents, and the emergence of evolving regulatory landscapes and AI legislation.\\n\\n## Multimodal Models and AI Agents: A New Era of AI Capabilities\\n\\nThe first trend revolves around the increasing prevalence of multimodal models and AI agents. These advanced AI systems can process and understand multiple types of data, including text, images, and audio. This capability enables more sophisticated and versatile AI applications, allowing AI systems to better understand and interact with the complex, multimodal world around us.\\n\\nMultimodal models and AI agents have the potential to revolutionize various sectors, from healthcare to entertainment. For instance, in healthcare, these systems could analyze medical images and patient records to provide more accurate diagnoses. In entertainment, they could create immersive experiences by understanding and responding to user inputs across different modalities.\\n\\nThe significance of this trend lies in its potential to make AI systems more human-like, capable of understanding and responding to the world in a more nuanced and contextually appropriate manner. This development could pave the way for AI systems that are not just tools, but genuine collaborators and companions.\\n\\n## Navigating the Regulatory Landscape: Ethical AI Use\\n\\nThe second trend is the evolving regulatory landscapes and AI legislation. As AI becomes more integrated into various industries and aspects of life, governments and regulatory bodies are increasingly focusing on creating guidelines and laws to ensure ethical and responsible AI use.\\n\\nThis trend is crucial for shaping the future of AI. It will impact how AI technologies are developed, deployed, and adopted. For instance, regulations could dictate the transparency of AI decision-making processes, ensuring users understand how AI systems arrive at their conclusions. They could also address issues like data privacy and security, ensuring that AI systems respect user data and protect it from misuse.\\n\\nThe evolving regulatory landscape also underscores the importance of ethical AI development. As AI systems become more sophisticated, it's essential to consider their potential societal impacts and ensure they align with human values and ethical principles.\\n\\n## Conclusion: A Balanced Approach to AI's Future\\n\\nThe rise of multimodal models and AI agents, coupled with the evolving regulatory landscapes and AI legislation, presents both opportunities and challenges for the AI industry. While these trends promise to unlock new capabilities and applications for AI, they also necessitate careful consideration of ethical implications and responsible use.\\n\\nAs we move forward, it's crucial to strike a balance between fostering innovation and ensuring ethical AI use. This balance will be key to realizing the full potential of AI while mitigating potential risks and harms.\\n\\n---\\n\\nThis blog post provides an engaging exploration of the two primary trends shaping the AI industry, offering insights into their significance and potential implications for the future of AI.\", pydantic=None, json_dict=None, agent='Content Writer', output_format=<OutputFormat.RAW: 'raw'>)]\n",
      "Token Usage: total_tokens=2789 prompt_tokens=1535 cached_prompt_tokens=0 completion_tokens=1254 successful_requests=3\n"
     ]
    }
   ],
   "source": [
    "print(f\"Tasks Output: {result.tasks_output}\")\n",
    "print(f\"Token Usage: {result.token_usage}\")"
   ]
  },
  {
   "cell_type": "code",
   "execution_count": null,
   "metadata": {},
   "outputs": [
    {
     "name": "stdout",
     "output_type": "stream",
     "text": [
      "Total costs: $0.0004\n"
     ]
    },
    {
     "data": {
      "text/html": [
       "<div>\n",
       "<style scoped>\n",
       "    .dataframe tbody tr th:only-of-type {\n",
       "        vertical-align: middle;\n",
       "    }\n",
       "\n",
       "    .dataframe tbody tr th {\n",
       "        vertical-align: top;\n",
       "    }\n",
       "\n",
       "    .dataframe thead th {\n",
       "        text-align: right;\n",
       "    }\n",
       "</style>\n",
       "<table border=\"1\" class=\"dataframe\">\n",
       "  <thead>\n",
       "    <tr style=\"text-align: right;\">\n",
       "      <th></th>\n",
       "      <th>total_tokens</th>\n",
       "      <th>prompt_tokens</th>\n",
       "      <th>cached_prompt_tokens</th>\n",
       "      <th>completion_tokens</th>\n",
       "      <th>successful_requests</th>\n",
       "    </tr>\n",
       "  </thead>\n",
       "  <tbody>\n",
       "    <tr>\n",
       "      <th>0</th>\n",
       "      <td>2789</td>\n",
       "      <td>1535</td>\n",
       "      <td>0</td>\n",
       "      <td>1254</td>\n",
       "      <td>3</td>\n",
       "    </tr>\n",
       "  </tbody>\n",
       "</table>\n",
       "</div>"
      ],
      "text/plain": [
       "   total_tokens  prompt_tokens  cached_prompt_tokens  completion_tokens  \\\n",
       "0          2789           1535                     0               1254   \n",
       "\n",
       "   successful_requests  \n",
       "0                    3  "
      ]
     },
     "execution_count": 18,
     "metadata": {},
     "output_type": "execute_result"
    }
   ],
   "source": [
    "import pandas as pd\n",
    "\n",
    "costs = 0.150 * (result.token_usage.prompt_tokens + result.token_usage.completion_tokens) / 1_000_000\n",
    "print(f\"Total costs: ${costs:.4f}\")\n",
    "\n",
    "df_usage_metrics = pd.DataFrame([result.token_usage.dict()])\n",
    "df_usage_metrics"
   ]
  },
  {
   "cell_type": "code",
   "execution_count": null,
   "metadata": {},
   "outputs": [],
   "source": []
  }
 ],
 "metadata": {
  "kernelspec": {
   "display_name": ".venv",
   "language": "python",
   "name": "python3"
  },
  "language_info": {
   "codemirror_mode": {
    "name": "ipython",
    "version": 3
   },
   "file_extension": ".py",
   "mimetype": "text/x-python",
   "name": "python",
   "nbconvert_exporter": "python",
   "pygments_lexer": "ipython3",
   "version": "3.11.6"
  }
 },
 "nbformat": 4,
 "nbformat_minor": 2
}
